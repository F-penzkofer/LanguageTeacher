{
 "cells": [
  {
   "cell_type": "code",
   "execution_count": null,
   "metadata": {},
   "outputs": [],
   "source": [
    "#!pip install python-dotenv"
   ]
  },
  {
   "cell_type": "markdown",
   "metadata": {},
   "source": [
    "# TODO\n",
    "- Odd one out with numbers of answers\n",
    "- [urgent] Word topic matching is very wrong format -> do numbers make sense here?\n",
    "- There should be free text answers!\n",
    "- [urgent] for gap text, implement free text answers more clearly. sometimes the gap number repeats\n",
    "  - test the free text answer formatting here\n",
    "  - sometimes provides correct answers in the correct order\n",
    "- code the level upgrade in python logic\n",
    "- code the level assessment somehow -> there should be a way to input the language level"
   ]
  },
  {
   "cell_type": "code",
   "execution_count": 1,
   "metadata": {},
   "outputs": [
    {
     "data": {
      "text/plain": [
       "<module 'temimbo' from 'c:\\\\Users\\\\franz\\\\OneDrive\\\\Desktop\\\\BA\\\\BA\\\\LanguageTeacher\\\\notebooks\\\\..\\\\temimbo\\\\__init__.py'>"
      ]
     },
     "execution_count": 1,
     "metadata": {},
     "output_type": "execute_result"
    }
   ],
   "source": [
    "import os\n",
    "\n",
    "import dotenv\n",
    "dotenv.load_dotenv()\n",
    "\n",
    "import sys\n",
    "sys.path.append('..')\n",
    "import temimbo\n",
    "\n",
    "import importlib\n",
    "\n",
    "importlib.reload(temimbo)"
   ]
  },
  {
   "cell_type": "code",
   "execution_count": 2,
   "metadata": {},
   "outputs": [],
   "source": [
    "connector_openai = temimbo.ConnectorOpenAI(\n",
    "    openai_key = os.getenv('OPENAI_KEY')\n",
    ")\n",
    "tg = temimbo.TaskGenerator(connector_llm = connector_openai)\n",
    "evaluator = temimbo.AnswerEvaluator(connector_llm = connector_openai)\n",
    "\n",
    "\n",
    "ui = temimbo.UserInterface()\n",
    "db = temimbo.DatabaseClientLocalFile(connection_string='./database')\n",
    "formater = temimbo.Formater()\n",
    "\n"
   ]
  },
  {
   "cell_type": "code",
   "execution_count": 3,
   "metadata": {},
   "outputs": [],
   "source": [
    "profile = await db.load_profile(id='Franzy')\n",
    "domain = await ui.choose_domain(domain='text')\n",
    "task_type = await ui.choose_task_type(task_type='text_summary')\n",
    "level, training_goals_subset = await tg.incorporate_profile_in_task(profile, domain)"
   ]
  },
  {
   "cell_type": "code",
   "execution_count": 4,
   "metadata": {},
   "outputs": [
    {
     "name": "stdout",
     "output_type": "stream",
     "text": [
      "Pretend you are a academic english teacher. Generate a task description, and the task according to the format of the examples. No other text or tasks.\n",
      "Generate a short text that the reader has to summarize in 5 to 6 sentences. only give a text of at least 250 words and a task description asking the student to write a summary, do not write a summary yourself.. Generate it for the area of text teaching, targeting on scientific developments.\n",
      "Adjust the task dificulty to language level C2 (Can understand with ease virtually everything heard or read. Can summarise information from different spoken and written sources, reconstructing arguments and accounts in a coherent presentation. Can express him/herself spontaneously, very fluently and precisely, differentiating finer shades of meaning even in more complex situations).\n"
     ]
    }
   ],
   "source": [
    "prompt = await tg.generate_prompt(\n",
    "    level = level,\n",
    "    training_goals_subset = training_goals_subset,\n",
    "    domain = domain,\n",
    "    task_type = task_type,\n",
    ")\n",
    "print(prompt)"
   ]
  },
  {
   "cell_type": "code",
   "execution_count": 5,
   "metadata": {},
   "outputs": [
    {
     "name": "stdout",
     "output_type": "stream",
     "text": [
      "Text:\n",
      "\n",
      "Scientists have recently made a ground-breaking discovery in the field of quantum physics. Using advanced computer simulations, they have successfully identified a new state of matter known as time crystals. Time crystals are unique because they exhibit a phenomenon known as time-translation symmetry breaking, which means that they oscillate between two different states without using any energy. This contradicts the laws of thermodynamics, which state that in order for something to oscillate, it must use energy. The discovery of time crystals has important implications for the field of quantum computing, as they could be used to create more stable qubits, which are the basic units of information in a quantum computer. This could lead to significant advancements in computing power and speed. Additionally, time crystals may also play a role in the development of new materials and technologies, as their unique properties could be harnessed for a variety of applications. Overall, the discovery of time crystals represents a major breakthrough in the field of quantum physics, and opens up exciting possibilities for future scientific advancements.\n",
      "\n",
      "Task Description: \n",
      "Write a summary of the given text in 5-6 sentences. Your summary should include the key points of the text, including the description of time crystals, their unique properties, and their potential implications for quantum computing, materials development, and technological applications. Focus on presenting a concise and coherent overview of the topic, avoiding unnecessary details. Aim for clarity and accuracy in your summary.\n"
     ]
    }
   ],
   "source": [
    "raw_output = await tg.generate_task(prompt)\n",
    "print(raw_output)"
   ]
  },
  {
   "cell_type": "code",
   "execution_count": 6,
   "metadata": {},
   "outputs": [],
   "source": [
    "formatted_output_task = await formater.output_task_formatting(raw_output)\n",
    "user_answer = await ui.answer_task(formatted_output_task, answer=\"Storage logistics is a critical factor in the success of any business. It involves managing inventory, warehousing, transportation and distribution to ensure that products are delivered on time and within budget. Improper storage logistics can lead to delays in product delivery, increases in operational costs, and decreases in customer satisfaction. The complexity of modern supply chain systems makes it essential for companies to have an effective storage logistics management system in place to achieve their desired goals and objectives.\")\n",
    "formated_user_answer = await formater.learner_answer_formatting(user_answer)\n"
   ]
  },
  {
   "cell_type": "code",
   "execution_count": 7,
   "metadata": {},
   "outputs": [
    {
     "name": "stdout",
     "output_type": "stream",
     "text": [
      "NL_feedback = Thank you for your response. However, your answer is not correct for the given task. You have provided information about storage logistics, which is not relevant to the text about time crystals and quantum physics. \n",
      "\n",
      "To improve, I would suggest focusing on the key points of the text, including the description of time crystals, their unique properties, and their potential implications for quantum computing, materials development, and technological applications. Additionally, practice using the vocabulary related to quantum physics, such as time-translation symmetry breaking, thermodynamics, qubits, computing power, and technological advancements.\n",
      "\n",
      "The correct answer for the summary of the text is:\n",
      "Scientists have made a ground-breaking discovery in quantum physics - they have identified a new state of matter called time crystals. Time crystals oscillate between two different states without using any energy, which contradicts the laws of thermodynamics. These time crystals could have significant implications for quantum computing, as they could be used to create more stable qubits. Additionally, they may have applications in the development of new materials and technologies. This discovery represents a major breakthrough in quantum physics and opens up exciting possibilities for future advancements.\n",
      "\n",
      "I encourage you to continue practicing and studying the key concepts and vocabulary of quantum physics to improve your understanding and performance in this area. Keep up the effort!\n",
      "correctness = False\n",
      "training_goals = vocabulary_goals=['understanding and using the key terms related to quantum physics', 'such as time crystals', 'time-translation symmetry breaking', 'thermodynamics', 'qubits', 'computing power', 'and technological advancements.'] grammar_goals=[] text_goals=['summarizing information from a given text in a concise and coherent manner', 'focusing on the main points and avoiding unnecessary details.']\n"
     ]
    }
   ],
   "source": [
    "######################\n",
    "# This is what it will actually looks like\n",
    "NL_feedback, correctness, training_goals = await evaluator.evaluate_learner_answer(\n",
    "    domain = domain,\n",
    "    formatted_output_task = formatted_output_task,\n",
    "    formated_user_answer = formated_user_answer,\n",
    "    task_type = task_type,\n",
    ")\n",
    "print('NL_feedback =', NL_feedback)\n",
    "print('correctness =', correctness)\n",
    "print('training_goals =', training_goals)"
   ]
  },
  {
   "cell_type": "code",
   "execution_count": 9,
   "metadata": {},
   "outputs": [],
   "source": [
    "# While the parsing is not implemented, this function will not work\n",
    "new_profile = await evaluator.update_learner_profile(training_goals, profile)\n",
    "#print(f'Old profile:\\n{profile}\\n\\nNew profile:\\n{new_profile}')"
   ]
  },
  {
   "cell_type": "code",
   "execution_count": 10,
   "metadata": {},
   "outputs": [],
   "source": [
    "# This overwrites the original profile\n",
    "# For testing purposes, it's easier to just comment it out\n",
    "await db.save_profile(new_profile)"
   ]
  }
 ],
 "metadata": {
  "interpreter": {
   "hash": "25e6fefa8d138d67568049bc3e2c682d1e448d08136aef81ded8b5c62321466c"
  },
  "kernelspec": {
   "display_name": "Python 3.9.13 64-bit (windows store)",
   "language": "python",
   "name": "python3"
  },
  "language_info": {
   "codemirror_mode": {
    "name": "ipython",
    "version": 3
   },
   "file_extension": ".py",
   "mimetype": "text/x-python",
   "name": "python",
   "nbconvert_exporter": "python",
   "pygments_lexer": "ipython3",
   "version": "3.9.13"
  },
  "orig_nbformat": 4
 },
 "nbformat": 4,
 "nbformat_minor": 2
}
