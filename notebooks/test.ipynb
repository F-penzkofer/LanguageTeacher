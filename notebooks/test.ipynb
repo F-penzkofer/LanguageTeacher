{
 "cells": [
  {
   "cell_type": "code",
   "execution_count": null,
   "metadata": {},
   "outputs": [],
   "source": [
    "#!pip install python-dotenv"
   ]
  },
  {
   "cell_type": "markdown",
   "metadata": {},
   "source": [
    "# TODO\n",
    "- Odd one out with numbers of answers\n",
    "- [urgent] Word topic matching is very wrong format -> do numbers make sense here?\n",
    "- There should be free text answers!\n",
    "- [urgent] for gap text, implement free text answers more clearly. sometimes the gap number repeats\n",
    "  - test the free text answer formatting here\n",
    "  - sometimes provides correct answers in the correct order\n",
    "- code the level upgrade in python logic\n",
    "- code the level assessment somehow -> there should be a way to input the language level"
   ]
  },
  {
   "cell_type": "code",
   "execution_count": 19,
   "metadata": {},
   "outputs": [
    {
     "data": {
      "text/plain": [
       "<module 'temimbo' from 'c:\\\\Users\\\\franz\\\\OneDrive\\\\Desktop\\\\BA\\\\BA\\\\LanguageTeacher\\\\notebooks\\\\..\\\\temimbo\\\\__init__.py'>"
      ]
     },
     "execution_count": 19,
     "metadata": {},
     "output_type": "execute_result"
    }
   ],
   "source": [
    "import os\n",
    "\n",
    "import dotenv\n",
    "dotenv.load_dotenv()\n",
    "\n",
    "import sys\n",
    "sys.path.append('..')\n",
    "import temimbo\n",
    "\n",
    "import importlib\n",
    "\n",
    "importlib.reload(temimbo)"
   ]
  },
  {
   "cell_type": "code",
   "execution_count": 20,
   "metadata": {},
   "outputs": [],
   "source": [
    "connector_openai = temimbo.ConnectorOpenAI(\n",
    "    openai_key = os.getenv('OPENAI_KEY')\n",
    ")\n",
    "tg = temimbo.TaskGenerator(connector_llm = connector_openai)\n",
    "evaluator = temimbo.AnswerEvaluator(connector_llm = connector_openai)\n",
    "\n",
    "\n",
    "ui = temimbo.UserInterface()\n",
    "db = temimbo.DatabaseClientLocalFile(connection_string='./database')\n",
    "formater = temimbo.Formater()\n",
    "\n"
   ]
  },
  {
   "cell_type": "code",
   "execution_count": 21,
   "metadata": {},
   "outputs": [],
   "source": [
    "profile = await db.load_profile(id='Franzy')\n",
    "domain = await ui.choose_domain(domain='grammar')\n",
    "task_type = await ui.choose_task_type(task_type='text_summary')\n",
    "level, training_goals_subset = await tg.incorporate_profile_in_task(profile, domain)"
   ]
  },
  {
   "cell_type": "code",
   "execution_count": 22,
   "metadata": {},
   "outputs": [
    {
     "name": "stdout",
     "output_type": "stream",
     "text": [
      "Pretend you are a academic english teacher. Generate a task description, and the task according to the format of the examples. No other text or tasks.\n",
      "Generate a short text that the reader has to summarize in 5 to 6 sentences. only give a text of at least 250 words and a task description asking the student to write a summary, do not write a summary yourself.. Generate it for the area of vocabulary teaching, targeting on Colloquial Language.\n",
      "Adjust the task dificulty to language level B2 (Can understand the main ideas of complex text on both concrete and abstract topics, including technical discussions in his/her field of specialisation. Can interact with a degree of fluency and spontaneity that makes regular interaction with native speakers quite possible without strain for either party. Can produce clear, detailed text on a wide range of subjects and explain a viewpoint on a topical issue giving the advantages and disadvantages of various options).\n"
     ]
    }
   ],
   "source": [
    "prompt = await tg.generate_prompt(\n",
    "    level = level,\n",
    "    training_goals_subset = training_goals_subset,\n",
    "    domain = domain,\n",
    "    task_type = task_type,\n",
    ")\n",
    "print(prompt)"
   ]
  },
  {
   "cell_type": "code",
   "execution_count": 23,
   "metadata": {},
   "outputs": [
    {
     "name": "stdout",
     "output_type": "stream",
     "text": [
      "Text:\n",
      "\n",
      "In everyday conversation, people often use colloquial language to express themselves and communicate effectively. Colloquial language refers to informal words, phrases, and expressions that are commonly used in casual settings. It is the language used among friends, family members, and colleagues in relaxed and informal situations.\n",
      "\n",
      "Colloquial language varies based on region, culture, and social group. It includes slang words, idiomatic expressions, and informal vocabulary. For example, in American English, people might use the word \"cool\" to mean something is great or impressive, whereas in British English, people might use the word \"brilliant\" for the same purpose. Moreover, idiomatic expressions like \"it's raining cats and dogs\" are commonly used in colloquial language but may not make sense to non-native speakers.\n",
      "\n",
      "Colloquial language serves several purposes. Firstly, it fosters a sense of belonging and camaraderie among individuals who share similar backgrounds and experiences. Second, it allows for more efficient communication as speakers can convey their thoughts and emotions concisely using familiar language. Additionally, it adds depth and richness to conversations, making them more engaging and lively.\n",
      "\n",
      "However, it is important to note that colloquial language should be used appropriately in different contexts. While it is acceptable in casual conversations, it may not be suitable in professional or academic settings. It is crucial for English language learners to understand the nuances and appropriateness of colloquial language to effectively navigate various social situations.\n",
      "\n",
      "Task:\n",
      "Read the given text on colloquial language and summarize the main points in 5 to 6 sentences.\n"
     ]
    }
   ],
   "source": [
    "raw_output = await tg.generate_task(prompt)\n",
    "print(raw_output)"
   ]
  },
  {
   "cell_type": "code",
   "execution_count": null,
   "metadata": {},
   "outputs": [],
   "source": [
    "formatted_output_task = await formater.output_task_formatting(raw_output)\n",
    "user_answer = await ui.answer_task(formatted_output_task, answer=\"b)\")\n",
    "formated_user_answer = await formater.learner_answer_formatting(user_answer)\n"
   ]
  },
  {
   "cell_type": "code",
   "execution_count": null,
   "metadata": {},
   "outputs": [],
   "source": [
    "######################\n",
    "# This is what it will actually looks like\n",
    "NL_feedback, correctness, training_goals = await evaluator.evaluate_learner_answer(\n",
    "    domain = domain,\n",
    "    formatted_output_task = formatted_output_task,\n",
    "    formated_user_answer = formated_user_answer,\n",
    "    task_type = task_type,\n",
    ")\n",
    "print('NL_feedback =', NL_feedback)\n",
    "print('correctness =', correctness)\n",
    "print('training_goals =', training_goals)"
   ]
  },
  {
   "cell_type": "code",
   "execution_count": null,
   "metadata": {},
   "outputs": [],
   "source": [
    "# While the parsing is not implemented, this function will not work\n",
    "#new_profile = await evaluator.update_learner_profile(training_goals, profile)\n",
    "#print(f'Old profile:\\n{profile}\\n\\nNew profile:\\n{new_profile}')"
   ]
  },
  {
   "cell_type": "code",
   "execution_count": null,
   "metadata": {},
   "outputs": [],
   "source": [
    "# This overwrites the original profile\n",
    "# For testing purposes, it's easier to just comment it out\n",
    "# await db.save_profile(new_profile)"
   ]
  }
 ],
 "metadata": {
  "interpreter": {
   "hash": "25e6fefa8d138d67568049bc3e2c682d1e448d08136aef81ded8b5c62321466c"
  },
  "kernelspec": {
   "display_name": "Python 3.9.13 64-bit (windows store)",
   "language": "python",
   "name": "python3"
  },
  "language_info": {
   "codemirror_mode": {
    "name": "ipython",
    "version": 3
   },
   "file_extension": ".py",
   "mimetype": "text/x-python",
   "name": "python",
   "nbconvert_exporter": "python",
   "pygments_lexer": "ipython3",
   "version": "3.9.13"
  },
  "orig_nbformat": 4
 },
 "nbformat": 4,
 "nbformat_minor": 2
}
