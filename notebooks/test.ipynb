{
 "cells": [
  {
   "cell_type": "code",
   "execution_count": 1,
   "metadata": {},
   "outputs": [],
   "source": [
    "#!pip install python-dotenv"
   ]
  },
  {
   "cell_type": "markdown",
   "metadata": {},
   "source": [
    "# TODO\n",
    "- Odd one out with numbers of answers\n",
    "- [urgent] Word topic matching is very wrong format -> do numbers make sense here?\n",
    "- There should be free text answers!\n",
    "- [urgent] for gap text, implement free text answers more clearly. sometimes the gap number repeats\n",
    "  - test the free text answer formatting here\n",
    "  - sometimes provides correct answers in the correct order\n",
    "- code the level upgrade in python logic\n",
    "- code the level assessment somehow -> there should be a way to input the language level"
   ]
  },
  {
   "cell_type": "code",
   "execution_count": 1,
   "metadata": {},
   "outputs": [
    {
     "data": {
      "text/plain": [
       "<module 'temimbo' from 'c:\\\\Users\\\\franz\\\\OneDrive\\\\Desktop\\\\BA\\\\BA\\\\LanguageTeacher\\\\notebooks\\\\..\\\\temimbo\\\\__init__.py'>"
      ]
     },
     "execution_count": 1,
     "metadata": {},
     "output_type": "execute_result"
    }
   ],
   "source": [
    "import os\n",
    "\n",
    "import dotenv\n",
    "dotenv.load_dotenv()\n",
    "\n",
    "import sys\n",
    "sys.path.append('..')\n",
    "import temimbo\n",
    "\n",
    "import importlib\n",
    "importlib.reload(temimbo)"
   ]
  },
  {
   "cell_type": "code",
   "execution_count": 2,
   "metadata": {},
   "outputs": [],
   "source": [
    "connector_openai = temimbo.ConnectorOpenAI(\n",
    "    openai_key = os.getenv('OPENAI_KEY')\n",
    ")\n",
    "tg = temimbo.TaskGenerator(connector_llm = connector_openai)\n",
    "evaluator = temimbo.AnswerEvaluator(connector_llm = connector_openai)\n",
    "\n",
    "\n",
    "ui = temimbo.UserInterface()\n",
    "db = temimbo.DatabaseClientLocalFile(connection_string='./database')\n",
    "formater = temimbo.Formater()\n",
    "\n"
   ]
  },
  {
   "cell_type": "code",
   "execution_count": 3,
   "metadata": {},
   "outputs": [],
   "source": [
    "profile = await db.load_profile(id='Petra')\n",
    "domain = await ui.choose_domain(domain='grammar')\n",
    "task_type = await ui.choose_task_type(task_type='multiple_choice')\n",
    "level, training_goals_subset = await tg.incorporate_profile_in_task(profile, domain)"
   ]
  },
  {
   "cell_type": "code",
   "execution_count": 4,
   "metadata": {},
   "outputs": [
    {
     "name": "stdout",
     "output_type": "stream",
     "text": [
      "Pretend you are a academic english teacher. Generate a task description, and the task according to the format of the examples. No other text or tasks.\n",
      "Generate a multiple choice with given answer possibilities, there can be multiple correct answers. Generate only one task with four answer possibilities. Generate it for the area of grammar teaching, targeting on To bend the rules at my own will.\n",
      "Adjust the task dificulty to language level B1 (Can understand the main points of clear standard input on familiar matters regularly encountered in work, school, leisure, etc. Can deal with most situations likely to arise whilst travelling in an area where the language is spoken.  Can produce simple connected text on topics which are familiar or of personal interest. Can describe experiences and events, dreams, hopes & ambitions and briefly give reasons and explanations for opinions and plans).\n",
      "\n",
      "The following are 2 examples of how the task should be generated with output format and style:\n",
      "\n",
      " Select the correct answers:\n",
      "I am very happy _____ in India. I really miss being there.\n",
      "a) to live\n",
      "b) to have lived\n",
      "c) to be lived\n",
      "d) to have living\n",
      "\n",
      " Select the correct answers:\n",
      "They did not reach an agreement ______ their differences.\n",
      "a) because of\n",
      "b) due to\n",
      "c) even though\n",
      "d) besides\n"
     ]
    }
   ],
   "source": [
    "prompt = await tg.generate_prompt(\n",
    "    level = level,\n",
    "    training_goals_subset = training_goals_subset,\n",
    "    domain = domain,\n",
    "    task_type = task_type,\n",
    ")\n",
    "print(prompt)"
   ]
  },
  {
   "cell_type": "code",
   "execution_count": 5,
   "metadata": {},
   "outputs": [
    {
     "name": "stdout",
     "output_type": "stream",
     "text": [
      "Select the correct answers:\n",
      "I want to ______ the rules at my own will.\n",
      "a) bend\n",
      "b) breaking\n",
      "c) bends\n",
      "d) broke\n"
     ]
    }
   ],
   "source": [
    "raw_output = await tg.generate_task(prompt)\n",
    "print(raw_output)"
   ]
  },
  {
   "cell_type": "code",
   "execution_count": 7,
   "metadata": {},
   "outputs": [
    {
     "ename": "NameError",
     "evalue": "name 'formated_user_answer' is not defined",
     "output_type": "error",
     "traceback": [
      "\u001b[1;31m---------------------------------------------------------------------------\u001b[0m",
      "\u001b[1;31mNameError\u001b[0m                                 Traceback (most recent call last)",
      "\u001b[1;32mc:\\Users\\franz\\OneDrive\\Desktop\\BA\\BA\\LanguageTeacher\\notebooks\\test.ipynb Cell 8\u001b[0m line \u001b[0;36m<cell line: 4>\u001b[1;34m()\u001b[0m\n\u001b[0;32m      <a href='vscode-notebook-cell:/c%3A/Users/franz/OneDrive/Desktop/BA/BA/LanguageTeacher/notebooks/test.ipynb#X10sZmlsZQ%3D%3D?line=0'>1</a>\u001b[0m formatted_output_task \u001b[39m=\u001b[39m \u001b[39mawait\u001b[39;00m formater\u001b[39m.\u001b[39moutput_task_formatting(raw_output)\n\u001b[0;32m      <a href='vscode-notebook-cell:/c%3A/Users/franz/OneDrive/Desktop/BA/BA/LanguageTeacher/notebooks/test.ipynb#X10sZmlsZQ%3D%3D?line=1'>2</a>\u001b[0m user_answer \u001b[39m=\u001b[39m \u001b[39mawait\u001b[39;00m ui\u001b[39m.\u001b[39manswer_task(formatted_output_task, answer\u001b[39m=\u001b[39m\u001b[39m\"\u001b[39m\u001b[39mthe correct answer is a\u001b[39m\u001b[39m\"\u001b[39m)\n\u001b[0;32m      <a href='vscode-notebook-cell:/c%3A/Users/franz/OneDrive/Desktop/BA/BA/LanguageTeacher/notebooks/test.ipynb#X10sZmlsZQ%3D%3D?line=3'>4</a>\u001b[0m prompt \u001b[39m=\u001b[39m \u001b[39mawait\u001b[39;00m evaluator\u001b[39m.\u001b[39mgenerate_prompt(\n\u001b[0;32m      <a href='vscode-notebook-cell:/c%3A/Users/franz/OneDrive/Desktop/BA/BA/LanguageTeacher/notebooks/test.ipynb#X10sZmlsZQ%3D%3D?line=4'>5</a>\u001b[0m     domain \u001b[39m=\u001b[39m domain,\n\u001b[0;32m      <a href='vscode-notebook-cell:/c%3A/Users/franz/OneDrive/Desktop/BA/BA/LanguageTeacher/notebooks/test.ipynb#X10sZmlsZQ%3D%3D?line=5'>6</a>\u001b[0m     formatted_output_task \u001b[39m=\u001b[39m formatted_output_task,\n\u001b[1;32m----> <a href='vscode-notebook-cell:/c%3A/Users/franz/OneDrive/Desktop/BA/BA/LanguageTeacher/notebooks/test.ipynb#X10sZmlsZQ%3D%3D?line=6'>7</a>\u001b[0m     formated_user_answer \u001b[39m=\u001b[39m formated_user_answer,\n\u001b[0;32m      <a href='vscode-notebook-cell:/c%3A/Users/franz/OneDrive/Desktop/BA/BA/LanguageTeacher/notebooks/test.ipynb#X10sZmlsZQ%3D%3D?line=7'>8</a>\u001b[0m     task_type \u001b[39m=\u001b[39m task_type,\n\u001b[0;32m      <a href='vscode-notebook-cell:/c%3A/Users/franz/OneDrive/Desktop/BA/BA/LanguageTeacher/notebooks/test.ipynb#X10sZmlsZQ%3D%3D?line=8'>9</a>\u001b[0m )\n\u001b[0;32m     <a href='vscode-notebook-cell:/c%3A/Users/franz/OneDrive/Desktop/BA/BA/LanguageTeacher/notebooks/test.ipynb#X10sZmlsZQ%3D%3D?line=9'>10</a>\u001b[0m \u001b[39mprint\u001b[39m(prompt)\n",
      "\u001b[1;31mNameError\u001b[0m: name 'formated_user_answer' is not defined"
     ]
    }
   ],
   "source": [
    "formatted_output_task = await formater.output_task_formatting(raw_output)\n",
    "user_answer = await ui.answer_task(formatted_output_task, answer=\"the correct answer is a\")\n",
    "\n",
    "prompt = await evaluator.generate_prompt(\n",
    "    domain = domain,\n",
    "    formatted_output_task = formatted_output_task,\n",
    "    formated_user_answer = formated_user_answer,\n",
    "    task_type = task_type,\n",
    ")\n",
    "print(prompt)\n"
   ]
  },
  {
   "cell_type": "code",
   "execution_count": 13,
   "metadata": {},
   "outputs": [
    {
     "name": "stdout",
     "output_type": "stream",
     "text": [
      "1) False\n",
      "2) Vocabulary: rules, individuality, conformity\n",
      "   Grammar: verb forms (rebel, live)\n",
      "   Text skills: understanding context, coherence\n",
      "3) Your answer for the first gap is incorrect. The appropriate word to fill in the gap is \"rebel\". This word means to resist or defy the rules or authority. You should practice your vocabulary related to rules and individuality. For the second gap, the correct word is \"break\". This word means to go against or violate the rules. Lastly, for the third gap, the correct word is \"live\". It seems you misinterpreted the meaning of this sentence. The sentence means that you will live life on your own terms and in your own way. You should practice understanding the context of the text and improving your coherence when filling in the gaps. Keep practicing and don't be afraid to ask for help!\n"
     ]
    }
   ],
   "source": [
    "######################\n",
    "# This is what it will actually looks like\n",
    "#NL_feedback, correctness, training_goals = await evaluator.evaluate_learner_answer(prompt)\n",
    "#print('NL_feedback =', NL_feedback)\n",
    "#print('correctness =', correctness)\n",
    "#print('training_goals =', training_goals)\n",
    "\n",
    "#########################\n",
    "# This is how it will be implemented inside the evaluate_learner_answer function\n",
    "\n",
    "print(connector_openai.text_completion(prompt))"
   ]
  },
  {
   "cell_type": "code",
   "execution_count": 8,
   "metadata": {},
   "outputs": [
    {
     "ename": "NameError",
     "evalue": "name 'training_goals' is not defined",
     "output_type": "error",
     "traceback": [
      "\u001b[1;31m---------------------------------------------------------------------------\u001b[0m",
      "\u001b[1;31mNameError\u001b[0m                                 Traceback (most recent call last)",
      "\u001b[1;32mc:\\Users\\franz\\OneDrive\\Desktop\\BA\\BA\\LanguageTeacher\\notebooks\\test.ipynb Cell 10\u001b[0m line \u001b[0;36m<cell line: 1>\u001b[1;34m()\u001b[0m\n\u001b[1;32m----> <a href='vscode-notebook-cell:/c%3A/Users/franz/OneDrive/Desktop/BA/BA/LanguageTeacher/notebooks/test.ipynb#X12sZmlsZQ%3D%3D?line=0'>1</a>\u001b[0m new_profile \u001b[39m=\u001b[39m \u001b[39mawait\u001b[39;00m evaluator\u001b[39m.\u001b[39mupdate_learner_profile(training_goals, profile)\n\u001b[0;32m      <a href='vscode-notebook-cell:/c%3A/Users/franz/OneDrive/Desktop/BA/BA/LanguageTeacher/notebooks/test.ipynb#X12sZmlsZQ%3D%3D?line=1'>2</a>\u001b[0m \u001b[39mprint\u001b[39m(\u001b[39mf\u001b[39m\u001b[39m'\u001b[39m\u001b[39mOld profile:\u001b[39m\u001b[39m\\n\u001b[39;00m\u001b[39m{\u001b[39;00mprofile\u001b[39m}\u001b[39;00m\u001b[39m\\n\u001b[39;00m\u001b[39m\\n\u001b[39;00m\u001b[39mNew profile:\u001b[39m\u001b[39m\\n\u001b[39;00m\u001b[39m{\u001b[39;00mnew_profile\u001b[39m}\u001b[39;00m\u001b[39m'\u001b[39m)\n",
      "\u001b[1;31mNameError\u001b[0m: name 'training_goals' is not defined"
     ]
    }
   ],
   "source": [
    "new_profile = await evaluator.update_learner_profile(training_goals, profile)\n",
    "print(f'Old profile:\\n{profile}\\n\\nNew profile:\\n{new_profile}')"
   ]
  },
  {
   "cell_type": "code",
   "execution_count": 9,
   "metadata": {},
   "outputs": [],
   "source": [
    "# This overwrites the original profile\n",
    "# For testing purposes, it's easier to just comment it out\n",
    "# await db.save_profile(new_profile)"
   ]
  }
 ],
 "metadata": {
  "interpreter": {
   "hash": "25e6fefa8d138d67568049bc3e2c682d1e448d08136aef81ded8b5c62321466c"
  },
  "kernelspec": {
   "display_name": "Python 3.9.13 64-bit (windows store)",
   "language": "python",
   "name": "python3"
  },
  "language_info": {
   "codemirror_mode": {
    "name": "ipython",
    "version": 3
   },
   "file_extension": ".py",
   "mimetype": "text/x-python",
   "name": "python",
   "nbconvert_exporter": "python",
   "pygments_lexer": "ipython3",
   "version": "3.9.13"
  },
  "orig_nbformat": 4
 },
 "nbformat": 4,
 "nbformat_minor": 2
}
