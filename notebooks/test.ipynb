{
 "cells": [
  {
   "cell_type": "code",
   "execution_count": 1,
   "metadata": {},
   "outputs": [
    {
     "name": "stdout",
     "output_type": "stream",
     "text": [
      "Requirement already satisfied: python-dotenv in c:\\users\\franz\\appdata\\local\\packages\\pythonsoftwarefoundation.python.3.9_qbz5n2kfra8p0\\localcache\\local-packages\\python39\\site-packages (1.0.0)\n"
     ]
    },
    {
     "name": "stderr",
     "output_type": "stream",
     "text": [
      "WARNING: You are using pip version 22.0.4; however, version 23.2.1 is available.\n",
      "You should consider upgrading via the 'C:\\Users\\franz\\AppData\\Local\\Microsoft\\WindowsApps\\PythonSoftwareFoundation.Python.3.9_qbz5n2kfra8p0\\python.exe -m pip install --upgrade pip' command.\n"
     ]
    }
   ],
   "source": [
    "!pip install python-dotenv"
   ]
  },
  {
   "cell_type": "code",
   "execution_count": 1,
   "metadata": {},
   "outputs": [
    {
     "data": {
      "text/plain": [
       "<module 'temimbo' from 'c:\\\\Users\\\\franz\\\\OneDrive\\\\Desktop\\\\BA\\\\BA\\\\LanguageTeacher\\\\notebooks\\\\..\\\\temimbo\\\\__init__.py'>"
      ]
     },
     "execution_count": 1,
     "metadata": {},
     "output_type": "execute_result"
    }
   ],
   "source": [
    "import os\n",
    "\n",
    "import dotenv\n",
    "dotenv.load_dotenv()\n",
    "\n",
    "import sys\n",
    "sys.path.append('..')\n",
    "import temimbo\n",
    "\n",
    "import importlib\n",
    "importlib.reload(temimbo)"
   ]
  },
  {
   "cell_type": "code",
   "execution_count": 2,
   "metadata": {},
   "outputs": [],
   "source": [
    "connector_openai = temimbo.ConnectorOpenAI(\n",
    "    openai_key = os.getenv('OPENAI_KEY')\n",
    ")\n",
    "tg = temimbo.TaskGenerator(connector_llm = connector_openai)\n",
    "evaluator = temimbo.AnswerEvaluator(connector_llm = connector_openai)\n",
    "\n",
    "\n",
    "ui = temimbo.UserInterface()\n",
    "db = temimbo.DatabaseClientLocalFile(connection_string='./database')\n",
    "formater = temimbo.Formater()\n",
    "\n"
   ]
  },
  {
   "cell_type": "code",
   "execution_count": 3,
   "metadata": {},
   "outputs": [],
   "source": [
    "profile = await db.load_profile(id='Klaus')\n",
    "domain = await ui.choose_domain()\n",
    "task_type = await ui.choose_task_type()\n",
    "level, training_goals_subset = await tg.incorporate_profile_in_task(profile, domain)"
   ]
  },
  {
   "cell_type": "code",
   "execution_count": 4,
   "metadata": {},
   "outputs": [
    {
     "name": "stdout",
     "output_type": "stream",
     "text": [
      "Pretend you are a academic english teacher. Generate only the task itself, no other text.\n",
      "Generate a single choice (4 possible answer choices per task), only one answer is correct task, in the area of vocabulary teaching, targeting on Cars and Mars.\n",
      "Do not provide the correct answers, just the task output. Only one task. It should be for academic english learners. Therefore, the tasks have to train academic english!\n",
      "The following is an example of how the task should be generated. The language level should be C1 or higher\n",
      "\n",
      "Example text ____ with gap\n",
      "a) answer option 1\n",
      "b) answer option 2\n",
      "c) answer  option 3\n",
      "d) answer  option 4\n"
     ]
    }
   ],
   "source": [
    "prompt = await tg.generate_prompt(\n",
    "    level = level,\n",
    "    training_goals_subset = training_goals_subset,\n",
    "    domain = domain,\n",
    "    task_type = task_type,\n",
    ")\n",
    "print(prompt)"
   ]
  },
  {
   "cell_type": "code",
   "execution_count": 5,
   "metadata": {},
   "outputs": [
    {
     "name": "stdout",
     "output_type": "stream",
     "text": [
      "Mars is a planet ____ with the Earth, as they both have an atmosphere and seasons.\n",
      "a) densely populated\n",
      "b) in direct competition\n",
      "c) closely associated\n",
      "d) highly susceptible\n"
     ]
    }
   ],
   "source": [
    "raw_output = await tg.generate_task(prompt)\n",
    "print(raw_output)"
   ]
  },
  {
   "cell_type": "code",
   "execution_count": 6,
   "metadata": {},
   "outputs": [
    {
     "name": "stdout",
     "output_type": "stream",
     "text": [
      "Pretend you are an academic english teacher. You have three tasks:\n",
      "Evaluate the following answer of a student to a given task with boolean values.\n",
      "Name the topic the student has to practice more.\n",
      "Give sensible feedback to the student. Tell them what is wrong, and what they have to practice.\n",
      "\n",
      "This was the given task:\n",
      "Hello user, you look pretty today. Now Answer this.\n",
      "\n",
      "Mars is a planet ____ with the Earth, as they both have an atmosphere and seasons.\n",
      "a) densely populated\n",
      "b) in direct competition\n",
      "c) closely associated\n",
      "d) highly susceptible\n",
      "\n",
      "This was the student's answer: \n",
      "I choose A\n"
     ]
    }
   ],
   "source": [
    "formatted_output_task = await formater.output_task_formatting(raw_output)\n",
    "user_answer = await ui.answer_task(formatted_output_task)\n",
    "formated_user_answer = await formater.learner_answer_formatting(user_answer)\n",
    "\n",
    "prompt = await evaluator.generate_prompt(\n",
    "    domain = domain,\n",
    "    formatted_output_task = formatted_output_task,\n",
    "    formated_user_answer = formated_user_answer,\n",
    "    task_type = task_type,\n",
    ")\n",
    "print(prompt)\n"
   ]
  },
  {
   "cell_type": "code",
   "execution_count": 7,
   "metadata": {},
   "outputs": [
    {
     "name": "stdout",
     "output_type": "stream",
     "text": [
      "NL_feedback = Oh my darling, your mistakes are comprehensible, but...\n",
      "correctness = False\n",
      "training_goals = vocabulary_goals=['Cat anatomical parts'] grammar_goals=[\"Use of don't\", 'Simple past, even though pasts are never simple'] text_goals=[]\n"
     ]
    }
   ],
   "source": [
    "NL_feedback, correctness, training_goals = await evaluator.evaluate_learner_answer(prompt)\n",
    "print('NL_feedback =', NL_feedback)\n",
    "print('correctness =', correctness)\n",
    "print('training_goals =', training_goals)"
   ]
  },
  {
   "cell_type": "code",
   "execution_count": 8,
   "metadata": {},
   "outputs": [
    {
     "name": "stdout",
     "output_type": "stream",
     "text": [
      "Old profile:\n",
      "name='Klaus' level=Level(vocabulary_level=4, grammar_level=4, text_level=2) training_goals=TrainingGoals(vocabulary_goals=['Cars', 'Mars'], grammar_goals=[], text_goals=['Talk about powerful cars'])\n",
      "\n",
      "New profile:\n",
      "name='Klaus' level=Level(vocabulary_level=4, grammar_level=4, text_level=2) training_goals=TrainingGoals(vocabulary_goals=['Cars', 'Mars', 'Cat anatomical parts'], grammar_goals=[\"Use of don't\", 'Simple past, even though pasts are never simple'], text_goals=['Talk about powerful cars'])\n"
     ]
    }
   ],
   "source": [
    "new_profile = await evaluator.update_learner_profile(training_goals, profile)\n",
    "print(f'Old profile:\\n{profile}\\n\\nNew profile:\\n{new_profile}')"
   ]
  },
  {
   "cell_type": "code",
   "execution_count": 9,
   "metadata": {},
   "outputs": [],
   "source": [
    "# This overwrites the original profile\n",
    "# For testing purposes, it's easier to just comment it out\n",
    "# await db.save_profile(new_profile)"
   ]
  }
 ],
 "metadata": {
  "interpreter": {
   "hash": "25e6fefa8d138d67568049bc3e2c682d1e448d08136aef81ded8b5c62321466c"
  },
  "kernelspec": {
   "display_name": "Python 3.9.13 64-bit (windows store)",
   "language": "python",
   "name": "python3"
  },
  "language_info": {
   "codemirror_mode": {
    "name": "ipython",
    "version": 3
   },
   "file_extension": ".py",
   "mimetype": "text/x-python",
   "name": "python",
   "nbconvert_exporter": "python",
   "pygments_lexer": "ipython3",
   "version": "3.9.13"
  },
  "orig_nbformat": 4
 },
 "nbformat": 4,
 "nbformat_minor": 2
}
