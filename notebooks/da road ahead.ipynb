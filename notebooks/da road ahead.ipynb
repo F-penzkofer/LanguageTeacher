{
 "cells": [
  {
   "cell_type": "code",
   "execution_count": 1,
   "metadata": {},
   "outputs": [
    {
     "data": {
      "text/plain": [
       "<module 'temimbo' from 'c:\\\\Users\\\\franz\\\\OneDrive\\\\Desktop\\\\BA\\\\BA\\\\LanguageTeacher\\\\notebooks\\\\..\\\\temimbo\\\\__init__.py'>"
      ]
     },
     "execution_count": 1,
     "metadata": {},
     "output_type": "execute_result"
    }
   ],
   "source": [
    "import sys\n",
    "sys.path.append('..')\n",
    "import temimbo\n",
    "\n",
    "import importlib\n",
    "importlib.reload(temimbo)"
   ]
  },
  {
   "cell_type": "code",
   "execution_count": 2,
   "metadata": {},
   "outputs": [],
   "source": [
    "tg = temimbo.TaskGenerator(\n",
    "    openai_endpoint = 'http://I-walk-barefoot.cogsci',\n",
    "    openai_key = 'abc123',\n",
    ")\n",
    "evaluator = temimbo.AnswerEvaluator(\n",
    "    openai_endpoint = 'https://very-open-but-actually-proprietary.microsoft.com',\n",
    "    openai_key = 'wow-this-is-secure',\n",
    ")\n",
    "\n",
    "\n",
    "ui = temimbo.UserInterface()\n",
    "db = temimbo.DatabaseClient(connection_string='http://connect-to-my-cerberus:666')\n",
    "formater = temimbo.Formater()\n",
    "\n"
   ]
  },
  {
   "cell_type": "code",
   "execution_count": 3,
   "metadata": {},
   "outputs": [],
   "source": [
    "profile = await db.load_profile(id='Franzy')\n",
    "domain = await ui.choose_domain()\n",
    "task_type = await ui.choose_task_type()\n",
    "level, training_goals_subset = await tg.incorporate_profile_in_task(profile, domain)"
   ]
  },
  {
   "cell_type": "code",
   "execution_count": 4,
   "metadata": {},
   "outputs": [],
   "source": [
    "prompt = await tg.generate_prompt(\n",
    "    level = level,\n",
    "    training_goals_subset = training_goals_subset,\n",
    "    domain = domain,\n",
    "    task_type = task_type,\n",
    ")\n",
    "\n",
    "raw_output = await tg.generate_task(prompt)\n",
    "\n",
    "formatted_output_task = await formater.output_task_formatting(raw_output)"
   ]
  },
  {
   "cell_type": "code",
   "execution_count": 5,
   "metadata": {},
   "outputs": [
    {
     "name": "stdout",
     "output_type": "stream",
     "text": [
      "NL_feedback = You dumbass, can't you see that...\n",
      "correctness = False\n",
      "training_goals = vocabulary_goals=['Cat anatomical parts'] grammar_goals=[\"Use of don't\", 'Simple past, even though pasts are never simple'] text_goals=[]\n"
     ]
    }
   ],
   "source": [
    "user_answer = await ui.answer_task(formatted_output_task)\n",
    "formated_user_answer = await formater.learner_answer_formatting(user_answer)\n",
    "NL_feedback, correctness, training_goals = await evaluator.evaluate_learner_answer(\n",
    "    domain = domain,\n",
    "    formatted_output_task = formatted_output_task,\n",
    "    formated_user_answer = formated_user_answer,\n",
    "    task_type = task_type,\n",
    ")\n",
    "print('NL_feedback =', NL_feedback)\n",
    "print('correctness =', correctness)\n",
    "print('training_goals =', training_goals)"
   ]
  },
  {
   "cell_type": "code",
   "execution_count": 6,
   "metadata": {},
   "outputs": [
    {
     "name": "stdout",
     "output_type": "stream",
     "text": [
      "Old profile:\n",
      "name='Franzy' level=Level(vocabulary_level=5, grammar_level=7, text_level=3) training_goals=TrainingGoals(vocabulary_goals=['Foods and drinks'], grammar_goals=[], text_goals=['Describe delicious things'])\n",
      "\n",
      "New profile:\n",
      "name='Franzy' level=Level(vocabulary_level=5, grammar_level=7, text_level=3) training_goals=TrainingGoals(vocabulary_goals=['Foods and drinks', 'Cat anatomical parts'], grammar_goals=[\"Use of don't\", 'Simple past, even though pasts are never simple'], text_goals=['Describe delicious things'])\n"
     ]
    }
   ],
   "source": [
    "new_profile = await evaluator.update_learner_profile(training_goals, profile)\n",
    "print(f'Old profile:\\n{profile}\\n\\nNew profile:\\n{new_profile}')"
   ]
  },
  {
   "cell_type": "code",
   "execution_count": 7,
   "metadata": {},
   "outputs": [
    {
     "name": "stdout",
     "output_type": "stream",
     "text": [
      "Oh my darling, your mistakes are comprehensible, but...\n"
     ]
    }
   ],
   "source": [
    "eval_summary = await evaluator.give_feedback(\n",
    "    NL_feedback,\n",
    "    correctness,\n",
    ")\n",
    "print(eval_summary)"
   ]
  }
 ],
 "metadata": {
  "interpreter": {
   "hash": "25e6fefa8d138d67568049bc3e2c682d1e448d08136aef81ded8b5c62321466c"
  },
  "kernelspec": {
   "display_name": "Python 3.9.13 64-bit (windows store)",
   "language": "python",
   "name": "python3"
  },
  "language_info": {
   "codemirror_mode": {
    "name": "ipython",
    "version": 3
   },
   "file_extension": ".py",
   "mimetype": "text/x-python",
   "name": "python",
   "nbconvert_exporter": "python",
   "pygments_lexer": "ipython3",
   "version": "3.9.13"
  },
  "orig_nbformat": 4
 },
 "nbformat": 4,
 "nbformat_minor": 2
}
