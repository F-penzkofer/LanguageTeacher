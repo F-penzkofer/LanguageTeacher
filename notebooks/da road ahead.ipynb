{
 "cells": [
  {
   "cell_type": "code",
   "execution_count": 6,
   "metadata": {},
   "outputs": [
    {
     "name": "stdout",
     "output_type": "stream",
     "text": [
      "Collecting python-dotenv"
     ]
    },
    {
     "name": "stderr",
     "output_type": "stream",
     "text": [
      "WARNING: You are using pip version 22.0.4; however, version 23.2.1 is available.\n",
      "You should consider upgrading via the 'C:\\Users\\franz\\AppData\\Local\\Microsoft\\WindowsApps\\PythonSoftwareFoundation.Python.3.9_qbz5n2kfra8p0\\python.exe -m pip install --upgrade pip' command.\n"
     ]
    },
    {
     "name": "stdout",
     "output_type": "stream",
     "text": [
      "\n",
      "  Downloading python_dotenv-1.0.0-py3-none-any.whl (19 kB)\n",
      "Installing collected packages: python-dotenv\n",
      "Successfully installed python-dotenv-1.0.0\n"
     ]
    }
   ],
   "source": [
    "!pip install python-dotenv"
   ]
  },
  {
   "cell_type": "code",
   "execution_count": 1,
   "metadata": {},
   "outputs": [
    {
     "data": {
      "text/plain": [
       "<module 'temimbo' from 'c:\\\\Users\\\\franz\\\\OneDrive\\\\Desktop\\\\BA\\\\BA\\\\LanguageTeacher\\\\notebooks\\\\..\\\\temimbo\\\\__init__.py'>"
      ]
     },
     "execution_count": 1,
     "metadata": {},
     "output_type": "execute_result"
    }
   ],
   "source": [
    "import os\n",
    "\n",
    "import dotenv\n",
    "dotenv.load_dotenv()\n",
    "\n",
    "import sys\n",
    "sys.path.append('..')\n",
    "import temimbo\n",
    "\n",
    "import importlib\n",
    "importlib.reload(temimbo)"
   ]
  },
  {
   "cell_type": "code",
   "execution_count": 2,
   "metadata": {},
   "outputs": [],
   "source": [
    "connector_openai = temimbo.ConnectorOpenAI(\n",
    "    openai_key = os.getenv('OPENAI_KEY')\n",
    ")\n",
    "tg = temimbo.TaskGenerator(connector_llm = connector_openai)\n",
    "evaluator = temimbo.AnswerEvaluator(connector_llm = connector_openai)\n",
    "\n",
    "\n",
    "ui = temimbo.UserInterface()\n",
    "db = temimbo.DatabaseClient(connection_string='http://connect-to-my-cerberus:666')\n",
    "formater = temimbo.Formater()\n",
    "\n"
   ]
  },
  {
   "cell_type": "code",
   "execution_count": 3,
   "metadata": {},
   "outputs": [],
   "source": [
    "profile = await db.load_profile(id='Franzy')\n",
    "domain = await ui.choose_domain()\n",
    "task_type = await ui.choose_task_type()\n",
    "level, training_goals_subset = await tg.incorporate_profile_in_task(profile, domain)"
   ]
  },
  {
   "cell_type": "code",
   "execution_count": 4,
   "metadata": {},
   "outputs": [
    {
     "name": "stdout",
     "output_type": "stream",
     "text": [
      "Pretend you are a academic english teacher. Generate only the task itself, no other text.\n",
      "Generate a single choice (4 possible answer choices per task) task, in the area of vocabulary teaching, targeting on Foods and drinks.\n",
      "Do not provide the correct answers, just the task output. Only one task. It should be for academic english learners.\n",
      "The following is an example of how the task should be generated.\n",
      "\n",
      "Example text ____ with gap\n",
      "a) answer option 1\n",
      "b) answer option 2\n",
      "c) answer  option 3\n",
      "d) answer  option 4\n"
     ]
    }
   ],
   "source": [
    "prompt = await tg.generate_prompt(\n",
    "    level = level,\n",
    "    training_goals_subset = training_goals_subset,\n",
    "    domain = domain,\n",
    "    task_type = task_type,\n",
    ")\n",
    "print(prompt)"
   ]
  },
  {
   "cell_type": "code",
   "execution_count": 5,
   "metadata": {},
   "outputs": [
    {
     "name": "stdout",
     "output_type": "stream",
     "text": [
      "________ is a popular ingredient in many recipes around the world. It is a starchy, tuberous crop that is cultivated for its edible, underground storage roots. \n",
      "\n",
      "a) Potato\n",
      "b) Tomato\n",
      "c) Carrot\n",
      "d) Onion\n"
     ]
    }
   ],
   "source": [
    "raw_output = await tg.generate_task(prompt)\n",
    "print(raw_output)"
   ]
  },
  {
   "cell_type": "code",
   "execution_count": 6,
   "metadata": {},
   "outputs": [
    {
     "name": "stdout",
     "output_type": "stream",
     "text": [
      "Pretend you are an academic english teacher. You have three tasks:\n",
      "Evaluate the following answer of a student to a given task with boolean values.\n",
      "Name the topic the student has to practice more.\n",
      "Give sensible feedback to the student. Tell them what is wrong, and what they have to practice.\n",
      "\n",
      "This was the given task:\n",
      "Hello user, you look pretty today. Now Answer this.\n",
      "\n",
      "________ is a popular ingredient in many recipes around the world. It is a starchy, tuberous crop that is cultivated for its edible, underground storage roots. \n",
      "\n",
      "a) Potato\n",
      "b) Tomato\n",
      "c) Carrot\n",
      "d) Onion\n",
      "\n",
      "This was the student's answer: \n",
      "I choose A\n"
     ]
    }
   ],
   "source": [
    "formatted_output_task = await formater.output_task_formatting(raw_output)\n",
    "user_answer = await ui.answer_task(formatted_output_task)\n",
    "formated_user_answer = await formater.learner_answer_formatting(user_answer)\n",
    "\n",
    "prompt = await evaluator.generate_prompt(\n",
    "    domain = domain,\n",
    "    formatted_output_task = formatted_output_task,\n",
    "    formated_user_answer = formated_user_answer,\n",
    "    task_type = task_type,\n",
    ")\n",
    "print(prompt)\n"
   ]
  },
  {
   "cell_type": "code",
   "execution_count": 7,
   "metadata": {},
   "outputs": [
    {
     "name": "stdout",
     "output_type": "stream",
     "text": [
      "NL_feedback = Oh my darling, your mistakes are comprehensible, but...\n",
      "correctness = False\n",
      "training_goals = vocabulary_goals=['Cat anatomical parts'] grammar_goals=[\"Use of don't\", 'Simple past, even though pasts are never simple'] text_goals=[]\n"
     ]
    }
   ],
   "source": [
    "NL_feedback, correctness, training_goals = await evaluator.evaluate_learner_answer(prompt)\n",
    "print('NL_feedback =', NL_feedback)\n",
    "print('correctness =', correctness)\n",
    "print('training_goals =', training_goals)"
   ]
  },
  {
   "cell_type": "code",
   "execution_count": 6,
   "metadata": {},
   "outputs": [
    {
     "name": "stdout",
     "output_type": "stream",
     "text": [
      "Old profile:\n",
      "name='Franzy' level=Level(vocabulary_level=5, grammar_level=7, text_level=3) training_goals=TrainingGoals(vocabulary_goals=['Foods and drinks'], grammar_goals=[], text_goals=['Describe delicious things'])\n",
      "\n",
      "New profile:\n",
      "name='Franzy' level=Level(vocabulary_level=5, grammar_level=7, text_level=3) training_goals=TrainingGoals(vocabulary_goals=['Foods and drinks', 'Cat anatomical parts'], grammar_goals=[\"Use of don't\", 'Simple past, even though pasts are never simple'], text_goals=['Describe delicious things'])\n"
     ]
    }
   ],
   "source": [
    "new_profile = await evaluator.update_learner_profile(training_goals, profile)\n",
    "print(f'Old profile:\\n{profile}\\n\\nNew profile:\\n{new_profile}')"
   ]
  },
  {
   "cell_type": "code",
   "execution_count": 7,
   "metadata": {},
   "outputs": [
    {
     "name": "stdout",
     "output_type": "stream",
     "text": [
      "Oh my darling, your mistakes are comprehensible, but...\n"
     ]
    }
   ],
   "source": [
    "eval_summary = await evaluator.give_feedback(\n",
    "    NL_feedback,\n",
    "    correctness,\n",
    ")\n",
    "print(eval_summary)"
   ]
  }
 ],
 "metadata": {
  "interpreter": {
   "hash": "25e6fefa8d138d67568049bc3e2c682d1e448d08136aef81ded8b5c62321466c"
  },
  "kernelspec": {
   "display_name": "Python 3.9.13 64-bit (windows store)",
   "language": "python",
   "name": "python3"
  },
  "language_info": {
   "codemirror_mode": {
    "name": "ipython",
    "version": 3
   },
   "file_extension": ".py",
   "mimetype": "text/x-python",
   "name": "python",
   "nbconvert_exporter": "python",
   "pygments_lexer": "ipython3",
   "version": "3.9.13"
  },
  "orig_nbformat": 4
 },
 "nbformat": 4,
 "nbformat_minor": 2
}
